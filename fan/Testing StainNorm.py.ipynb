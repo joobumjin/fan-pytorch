{
 "cells": [
  {
   "cell_type": "code",
   "execution_count": 2,
   "metadata": {},
   "outputs": [],
   "source": [
    "import torch\n",
    "import torch.nn as nn\n",
    "import torch.nn.init as init\n",
    "import torch.utils.model_zoo as model_zoo\n",
    "import numpy as np\n",
    "\n",
    "import torch\n",
    "import torch.nn as nn\n",
    "import torch.nn.init as init\n",
    "\n",
    "from torch.nn import functional, init\n",
    "\n",
    "import transformer, layer"
   ]
  },
  {
   "cell_type": "code",
   "execution_count": 3,
   "metadata": {},
   "outputs": [
    {
     "data": {
      "text/plain": [
       "torch.Size([1, 3, 256, 256])"
      ]
     },
     "execution_count": 3,
     "metadata": {},
     "output_type": "execute_result"
    }
   ],
   "source": [
    "x = torch.rand(1, 3, 256,256)\n",
    "x.shape"
   ]
  },
  {
   "cell_type": "code",
   "execution_count": 4,
   "metadata": {},
   "outputs": [
    {
     "data": {
      "text/plain": [
       "torch.Size([1, 512, 32, 32])"
      ]
     },
     "execution_count": 4,
     "metadata": {},
     "output_type": "execute_result"
    }
   ],
   "source": [
    "#Feature extractor (depth 4) output\n",
    "conv1 = nn.Conv2d(3,3,1,1,0)\n",
    "reflecPad1 = nn.ReflectionPad2d((1,1,1,1))\n",
    "        # 226 x 226\n",
    "\n",
    "conv2 = nn.Conv2d(3,64,3,1,0)\n",
    "relu2 = nn.ReLU(inplace=True)\n",
    "        # 224 x 224\n",
    "\n",
    "reflecPad3 = nn.ReflectionPad2d((1,1,1,1))\n",
    "conv3 = nn.Conv2d(64,64,3,1,0)\n",
    "relu3 = nn.ReLU(inplace=True)\n",
    "        # 224 x 224\n",
    "\n",
    "maxPool = nn.MaxPool2d(kernel_size=2,stride=2,return_indices = True)\n",
    "        # 112 x 112\n",
    "\n",
    "reflecPad4 = nn.ReflectionPad2d((1,1,1,1))\n",
    "conv4 = nn.Conv2d(64,128,3,1,0)\n",
    "relu4 = nn.ReLU(inplace=True)\n",
    "        # 112 x 112\n",
    "\n",
    "reflecPad5 = nn.ReflectionPad2d((1,1,1,1))\n",
    "conv5 = nn.Conv2d(128,128,3,1,0)\n",
    "relu5 = nn.ReLU(inplace=True)\n",
    "        # 112 x 112\n",
    "\n",
    "maxPool2 = nn.MaxPool2d(kernel_size=2,stride=2,return_indices = True)\n",
    "        # 56 x 56\n",
    "\n",
    "reflecPad6 = nn.ReflectionPad2d((1,1,1,1))\n",
    "conv6 = nn.Conv2d(128,256,3,1,0)\n",
    "relu6 = nn.ReLU(inplace=True)\n",
    "        # 56 x 56\n",
    "\n",
    "reflecPad7 = nn.ReflectionPad2d((1,1,1,1))\n",
    "conv7 = nn.Conv2d(256,256,3,1,0)\n",
    "relu7 = nn.ReLU(inplace=True)\n",
    "        # 56 x 56\n",
    "\n",
    "reflecPad8 = nn.ReflectionPad2d((1,1,1,1))\n",
    "conv8 = nn.Conv2d(256,256,3,1,0)\n",
    "relu8 = nn.ReLU(inplace=True)\n",
    "        # 56 x 56\n",
    "\n",
    "reflecPad9 = nn.ReflectionPad2d((1,1,1,1))\n",
    "conv9 = nn.Conv2d(256,256,3,1,0)\n",
    "relu9 = nn.ReLU(inplace=True)\n",
    "        # 56 x 56\n",
    "\n",
    "maxPool3 = nn.MaxPool2d(kernel_size=2,stride=2,return_indices = True)\n",
    "        # 28 x 28\n",
    "\n",
    "reflecPad10 = nn.ReflectionPad2d((1,1,1,1))\n",
    "conv10 = nn.Conv2d(256,512,3,1,0)\n",
    "relu10 = nn.ReLU(inplace=True)\n",
    "\n",
    "\n",
    "out = conv1(x)\n",
    "out = reflecPad1(out)\n",
    "out = conv2(out)\n",
    "out = relu2(out)\n",
    "out = reflecPad3(out)\n",
    "out = conv3(out)\n",
    "pool1 = relu3(out)\n",
    "out,pool_idx = maxPool(pool1)\n",
    "\n",
    "out = reflecPad4(out)\n",
    "out = conv4(out)\n",
    "z1 = out = relu4(out)\n",
    "out = reflecPad5(out)\n",
    "out = conv5(out)\n",
    "pool2 = relu5(out)\n",
    "out,pool_idx2 = maxPool2(pool2)\n",
    "\n",
    "out = reflecPad6(out)\n",
    "out = conv6(out)\n",
    "out = relu6(out)\n",
    "out = reflecPad7(out)\n",
    "out = conv7(out)\n",
    "out = relu7(out)\n",
    "out = reflecPad8(out)\n",
    "out = conv8(out)\n",
    "z2 = out = relu8(out)\n",
    "out = reflecPad9(out)\n",
    "out = conv9(out)\n",
    "pool3 = relu9(out)\n",
    "out,pool_idx3 = maxPool3(pool3)\n",
    "\n",
    "out = reflecPad10(out)\n",
    "out = conv10(out)\n",
    "out = relu10(out)\n",
    "z8 = out\n",
    "out.shape"
   ]
  },
  {
   "cell_type": "code",
   "execution_count": 5,
   "metadata": {},
   "outputs": [],
   "source": [
    "fan_s8 = layer.FeatureAwareNorm(128, 512, scale=4)\n",
    "fan_s4 = layer.FeatureAwareNorm(128, 256, scale=2)\n",
    "fan_s2 = layer.FeatureAwareNorm(128, 128, scale=1)"
   ]
  },
  {
   "cell_type": "code",
   "execution_count": 6,
   "metadata": {},
   "outputs": [
    {
     "name": "stdout",
     "output_type": "stream",
     "text": [
      "torch.Size([1, 128, 128, 128])\n"
     ]
    }
   ],
   "source": [
    "tconv1 = nn.Conv2d(3,3,1,1,0)\n",
    "treflecPad1 = nn.ReflectionPad2d((1,1,1,1))\n",
    "        # 226 x 226\n",
    "\n",
    "tconv2 = nn.Conv2d(3,64,3,1,0)\n",
    "trelu2 = nn.ReLU(inplace=True)\n",
    "        # 224 x 224\n",
    "\n",
    "treflecPad3 = nn.ReflectionPad2d((1,1,1,1))\n",
    "tconv3 = nn.Conv2d(64,64,3,1,0)\n",
    "trelu3 = nn.ReLU(inplace=True)\n",
    "        # 224 x 224\n",
    "\n",
    "tmaxPool = nn.MaxPool2d(kernel_size=2,stride=2,return_indices = True)\n",
    "        # 112 x 112\n",
    "\n",
    "treflecPad4 = nn.ReflectionPad2d((1,1,1,1))\n",
    "tconv4 = nn.Conv2d(64,128,3,1,0)\n",
    "trelu4 = nn.ReLU(inplace=True)\n",
    "\n",
    "tout = tconv1(x)\n",
    "tout = treflecPad1(tout)\n",
    "tout = tconv2(tout)\n",
    "tout = trelu2(tout)\n",
    "tout = treflecPad3(tout)\n",
    "tout = tconv3(tout)\n",
    "tpool = trelu3(tout)\n",
    "tout,tpool_idx = tmaxPool(tpool)\n",
    "tout = treflecPad4(tout)\n",
    "tout = tconv4(tout)\n",
    "tout = trelu4(tout)\n",
    "print(tout.shape)"
   ]
  },
  {
   "cell_type": "code",
   "execution_count": 7,
   "metadata": {},
   "outputs": [
    {
     "name": "stderr",
     "output_type": "stream",
     "text": [
      "C:\\Users\\Hyuna\\anaconda3\\lib\\site-packages\\torch\\nn\\functional.py:2973: UserWarning: Default upsampling behavior when mode=bilinear is changed to align_corners=False since 0.4.0. Please specify align_corners=True if the old behavior is desired. See the documentation of nn.Upsample for details.\n",
      "  \"See the documentation of nn.Upsample for details.\".format(mode))\n"
     ]
    }
   ],
   "source": [
    "y = fan_s8(tout, z8)\n",
    "y = fan_s4(y, z2)\n",
    "y = fan_s2(y, z1)"
   ]
  },
  {
   "cell_type": "code",
   "execution_count": 8,
   "metadata": {},
   "outputs": [
    {
     "name": "stdout",
     "output_type": "stream",
     "text": [
      "torch.Size([1, 3, 256, 256])\n"
     ]
    }
   ],
   "source": [
    "ireflecPad5 = nn.ReflectionPad2d((1,1,1,1))\n",
    "iconv5 = nn.Conv2d(128,64,3,1,0)\n",
    "irelu5 = nn.ReLU(inplace=True)\n",
    "        # 112 x 112\n",
    "\n",
    "iunpool = nn.UpsamplingNearest2d(scale_factor=2)\n",
    "        # 224 x 224\n",
    "\n",
    "ireflecPad6 = nn.ReflectionPad2d((1,1,1,1))\n",
    "iconv6 = nn.Conv2d(64,64,3,1,0)\n",
    "irelu6 = nn.ReLU(inplace=True)\n",
    "        # 224 x 224\n",
    "\n",
    "ireflecPad7 = nn.ReflectionPad2d((1,1,1,1))\n",
    "iconv7 = nn.Conv2d(64,3,3,1,0)\n",
    "\n",
    "iout = ireflecPad5(y+tout)\n",
    "iout = iconv5(iout)\n",
    "iout = irelu5(iout)\n",
    "iout = iunpool(iout)\n",
    "iout = ireflecPad6(iout)\n",
    "iout = iconv6(iout)\n",
    "iout = irelu6(iout)\n",
    "iout = ireflecPad7(iout)\n",
    "iout = iconv7(iout)\n",
    "\n",
    "print(iout.shape)"
   ]
  }
 ],
 "metadata": {
  "kernelspec": {
   "display_name": "Python 3",
   "language": "python",
   "name": "python3"
  }
 },
 "nbformat": 4,
 "nbformat_minor": 4
}
